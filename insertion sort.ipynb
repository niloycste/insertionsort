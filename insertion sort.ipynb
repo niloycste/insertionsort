{
 "cells": [
  {
   "cell_type": "markdown",
   "metadata": {},
   "source": [
    "#insertionsort\n"
   ]
  },
  {
   "cell_type": "code",
   "execution_count": 10,
   "metadata": {},
   "outputs": [
    {
     "name": "stdout",
     "output_type": "stream",
     "text": [
      "enter the total size of a list: 7\n",
      "enter the values of a list: 5\n",
      "enter the values of a list: 9\n",
      "enter the values of a list: 2\n",
      "enter the values of a list: 7\n",
      "enter the values of a list: 8\n",
      "enter the values of a list: 4\n",
      "enter the values of a list: 3\n",
      "unsorted list:  [5, 9, 2, 7, 8, 4, 3]\n",
      "[5, 9, 2, 7, 8, 4, 3]\n",
      "[2, 5, 9, 7, 8, 4, 3]\n",
      "[2, 5, 7, 9, 8, 4, 3]\n",
      "[2, 5, 7, 8, 9, 4, 3]\n",
      "[2, 4, 5, 7, 8, 9, 3]\n",
      "[2, 3, 4, 5, 7, 8, 9]\n",
      "sorted list:  [2, 3, 4, 5, 7, 8, 9]\n"
     ]
    }
   ],
   "source": [
    "list=[]\n",
    "size=int(input(\"enter the total size of a list: \"))\n",
    "for i in range(size):\n",
    "    value=int(input(\"enter the values of a list: \"))\n",
    "    list.append(value)\n",
    "print(\"unsorted list: \",list)    \n",
    "    \n",
    "    \n",
    "for i in range(1,len(list)):\n",
    "    #start from 1 cause first value already sorted\n",
    "    t=list[i]\n",
    "    j=i-1\n",
    "    while j>=0 and t<list[j]:\n",
    "        list[j+1]=list[j]\n",
    "        j=j-1\n",
    "    list[j+1]=t\n",
    "    print(list)\n",
    "print(\"sorted list: \",list)    \n",
    "    \n",
    "    \n",
    "     "
   ]
  },
  {
   "cell_type": "code",
   "execution_count": null,
   "metadata": {},
   "outputs": [],
   "source": []
  }
 ],
 "metadata": {
  "kernelspec": {
   "display_name": "Python 3",
   "language": "python",
   "name": "python3"
  },
  "language_info": {
   "codemirror_mode": {
    "name": "ipython",
    "version": 3
   },
   "file_extension": ".py",
   "mimetype": "text/x-python",
   "name": "python",
   "nbconvert_exporter": "python",
   "pygments_lexer": "ipython3",
   "version": "3.7.4"
  }
 },
 "nbformat": 4,
 "nbformat_minor": 2
}
